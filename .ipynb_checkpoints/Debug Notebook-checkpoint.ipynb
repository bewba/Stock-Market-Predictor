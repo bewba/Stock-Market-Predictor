{
 "cells": [
  {
   "cell_type": "code",
   "execution_count": 1,
   "id": "d313edf7",
   "metadata": {},
   "outputs": [],
   "source": [
    "import requests\n",
    "import time\n",
    "import admin\n",
    "import json\n",
    "import pandas as pd\n",
    "import csv"
   ]
  },
  {
   "cell_type": "code",
   "execution_count": 3,
   "id": "39f266bc",
   "metadata": {},
   "outputs": [],
   "source": [
    "api_key = admin.getTicker()"
   ]
  },
  {
   "cell_type": "code",
   "execution_count": 5,
   "id": "eb630f6a",
   "metadata": {},
   "outputs": [],
   "source": [
    "def getStockPrice(ticker_symbol, api):\n",
    "    url = f\"https://api.twelvedata.com/time_series?symbol={ticker_symbol}&interval=1min&apikey={api}\"\n",
    "    response = requests.get(url).json()\n",
    "    return response\n"
   ]
  },
  {
   "cell_type": "code",
   "execution_count": 6,
   "id": "6edbebfa",
   "metadata": {
    "scrolled": true
   },
   "outputs": [
    {
     "data": {
      "text/plain": [
       "{'meta': {'symbol': 'MSFT',\n",
       "  'interval': '1min',\n",
       "  'currency': 'USD',\n",
       "  'exchange_timezone': 'America/New_York',\n",
       "  'exchange': 'NASDAQ',\n",
       "  'mic_code': 'XNGS',\n",
       "  'type': 'Common Stock'},\n",
       " 'values': [{'datetime': '2024-03-15 15:59:00',\n",
       "   'open': '416.29001',\n",
       "   'high': '416.66000',\n",
       "   'low': '416.26001',\n",
       "   'close': '416.42200',\n",
       "   'volume': '416188'},\n",
       "  {'datetime': '2024-03-15 15:58:00',\n",
       "   'open': '416.44501',\n",
       "   'high': '416.45999',\n",
       "   'low': '416.26999',\n",
       "   'close': '416.29001',\n",
       "   'volume': '109264'},\n",
       "  {'datetime': '2024-03-15 15:57:00',\n",
       "   'open': '416.59000',\n",
       "   'high': '416.61691',\n",
       "   'low': '416.31500',\n",
       "   'close': '416.45001',\n",
       "   'volume': '113122'},\n",
       "  {'datetime': '2024-03-15 15:56:00',\n",
       "   'open': '416.92999',\n",
       "   'high': '416.92999',\n",
       "   'low': '416.59000',\n",
       "   'close': '416.59500',\n",
       "   'volume': '94752'},\n",
       "  {'datetime': '2024-03-15 15:55:00',\n",
       "   'open': '416.37000',\n",
       "   'high': '417.27991',\n",
       "   'low': '416.34000',\n",
       "   'close': '416.94501',\n",
       "   'volume': '130613'},\n",
       "  {'datetime': '2024-03-15 15:54:00',\n",
       "   'open': '416.49500',\n",
       "   'high': '416.88370',\n",
       "   'low': '416.37000',\n",
       "   'close': '416.37000',\n",
       "   'volume': '62688'},\n",
       "  {'datetime': '2024-03-15 15:53:00',\n",
       "   'open': '416.60001',\n",
       "   'high': '416.67001',\n",
       "   'low': '416.51001',\n",
       "   'close': '416.51001',\n",
       "   'volume': '45423'},\n",
       "  {'datetime': '2024-03-15 15:52:00',\n",
       "   'open': '416.63000',\n",
       "   'high': '416.64999',\n",
       "   'low': '416.39001',\n",
       "   'close': '416.56000',\n",
       "   'volume': '43634'},\n",
       "  {'datetime': '2024-03-15 15:51:00',\n",
       "   'open': '416.48999',\n",
       "   'high': '416.64999',\n",
       "   'low': '416.34000',\n",
       "   'close': '416.62000',\n",
       "   'volume': '49907'},\n",
       "  {'datetime': '2024-03-15 15:50:00',\n",
       "   'open': '416.54001',\n",
       "   'high': '416.57999',\n",
       "   'low': '416.37000',\n",
       "   'close': '416.51001',\n",
       "   'volume': '34580'},\n",
       "  {'datetime': '2024-03-15 15:49:00',\n",
       "   'open': '416.56000',\n",
       "   'high': '416.66000',\n",
       "   'low': '416.50000',\n",
       "   'close': '416.54501',\n",
       "   'volume': '30351'},\n",
       "  {'datetime': '2024-03-15 15:48:00',\n",
       "   'open': '416.62000',\n",
       "   'high': '416.64999',\n",
       "   'low': '416.44501',\n",
       "   'close': '416.51999',\n",
       "   'volume': '32962'},\n",
       "  {'datetime': '2024-03-15 15:47:00',\n",
       "   'open': '416.57999',\n",
       "   'high': '416.63000',\n",
       "   'low': '416.39999',\n",
       "   'close': '416.60501',\n",
       "   'volume': '35510'},\n",
       "  {'datetime': '2024-03-15 15:46:00',\n",
       "   'open': '416.28000',\n",
       "   'high': '416.67001',\n",
       "   'low': '416.26999',\n",
       "   'close': '416.56500',\n",
       "   'volume': '39270'},\n",
       "  {'datetime': '2024-03-15 15:45:00',\n",
       "   'open': '416.22000',\n",
       "   'high': '416.32999',\n",
       "   'low': '416.14999',\n",
       "   'close': '416.28500',\n",
       "   'volume': '27296'},\n",
       "  {'datetime': '2024-03-15 15:44:00',\n",
       "   'open': '416.15280',\n",
       "   'high': '416.26501',\n",
       "   'low': '415.98001',\n",
       "   'close': '416.22501',\n",
       "   'volume': '38933'},\n",
       "  {'datetime': '2024-03-15 15:43:00',\n",
       "   'open': '416.35999',\n",
       "   'high': '416.35999',\n",
       "   'low': '416.14151',\n",
       "   'close': '416.17001',\n",
       "   'volume': '30320'},\n",
       "  {'datetime': '2024-03-15 15:42:00',\n",
       "   'open': '416.29001',\n",
       "   'high': '416.41501',\n",
       "   'low': '416.25000',\n",
       "   'close': '416.34500',\n",
       "   'volume': '21296'},\n",
       "  {'datetime': '2024-03-15 15:41:00',\n",
       "   'open': '416.25500',\n",
       "   'high': '416.37000',\n",
       "   'low': '416.25000',\n",
       "   'close': '416.26001',\n",
       "   'volume': '17315'},\n",
       "  {'datetime': '2024-03-15 15:40:00',\n",
       "   'open': '416.34000',\n",
       "   'high': '416.39999',\n",
       "   'low': '416.20999',\n",
       "   'close': '416.26001',\n",
       "   'volume': '26413'},\n",
       "  {'datetime': '2024-03-15 15:39:00',\n",
       "   'open': '416.34500',\n",
       "   'high': '416.41501',\n",
       "   'low': '416.28500',\n",
       "   'close': '416.32971',\n",
       "   'volume': '22375'},\n",
       "  {'datetime': '2024-03-15 15:38:00',\n",
       "   'open': '416.67001',\n",
       "   'high': '416.72000',\n",
       "   'low': '416.37000',\n",
       "   'close': '416.37000',\n",
       "   'volume': '23393'},\n",
       "  {'datetime': '2024-03-15 15:37:00',\n",
       "   'open': '416.85999',\n",
       "   'high': '416.89001',\n",
       "   'low': '416.67999',\n",
       "   'close': '416.70001',\n",
       "   'volume': '29262'},\n",
       "  {'datetime': '2024-03-15 15:36:00',\n",
       "   'open': '417.00000',\n",
       "   'high': '417.10999',\n",
       "   'low': '416.82501',\n",
       "   'close': '416.84500',\n",
       "   'volume': '33565'},\n",
       "  {'datetime': '2024-03-15 15:35:00',\n",
       "   'open': '416.69501',\n",
       "   'high': '417.00000',\n",
       "   'low': '416.69501',\n",
       "   'close': '416.97000',\n",
       "   'volume': '54629'},\n",
       "  {'datetime': '2024-03-15 15:34:00',\n",
       "   'open': '416.72501',\n",
       "   'high': '416.75900',\n",
       "   'low': '416.54501',\n",
       "   'close': '416.70001',\n",
       "   'volume': '24169'},\n",
       "  {'datetime': '2024-03-15 15:33:00',\n",
       "   'open': '416.65009',\n",
       "   'high': '416.82999',\n",
       "   'low': '416.64499',\n",
       "   'close': '416.70480',\n",
       "   'volume': '27892'},\n",
       "  {'datetime': '2024-03-15 15:32:00',\n",
       "   'open': '416.64999',\n",
       "   'high': '416.79681',\n",
       "   'low': '416.63000',\n",
       "   'close': '416.65500',\n",
       "   'volume': '30397'},\n",
       "  {'datetime': '2024-03-15 15:31:00',\n",
       "   'open': '416.73001',\n",
       "   'high': '416.85001',\n",
       "   'low': '416.66000',\n",
       "   'close': '416.67999',\n",
       "   'volume': '35220'},\n",
       "  {'datetime': '2024-03-15 15:30:00',\n",
       "   'open': '416.75000',\n",
       "   'high': '416.90399',\n",
       "   'low': '416.70001',\n",
       "   'close': '416.76999',\n",
       "   'volume': '21908'}],\n",
       " 'status': 'ok'}"
      ]
     },
     "execution_count": 6,
     "metadata": {},
     "output_type": "execute_result"
    }
   ],
   "source": [
    "# Test if the connection has been established (Passed)\n",
    "getStockPrice(\"MSFT\", api_key)"
   ]
  },
  {
   "cell_type": "code",
   "execution_count": 8,
   "id": "3cc09f83",
   "metadata": {},
   "outputs": [],
   "source": [
    "#import the stock list and collect their data\n",
    "url = f\"https://api.twelvedata.com/stocks\"\n",
    "response = requests.get(url).json()\n",
    "data = response['data']\n",
    "    "
   ]
  },
  {
   "cell_type": "code",
   "execution_count": 12,
   "id": "e46828bc",
   "metadata": {},
   "outputs": [
    {
     "name": "stdout",
     "output_type": "stream",
     "text": [
      "Keys: ['symbol', 'name', 'currency', 'exchange', 'mic_code', 'country', 'type']\n"
     ]
    }
   ],
   "source": [
    "#Check if the data has been imported\n",
    "#print(\"Keys:\", list(fruit_colors.keys()))\n",
    "print(\"Keys:\", list(data[0].keys()))"
   ]
  },
  {
   "cell_type": "code",
   "execution_count": 11,
   "id": "6d29076b",
   "metadata": {},
   "outputs": [
    {
     "name": "stdout",
     "output_type": "stream",
     "text": [
      "{'symbol': '000', 'name': 'Greenvolt - Energias Renováveis, S.A.', 'currency': 'EUR', 'exchange': 'FSX', 'mic_code': 'XFRA', 'country': 'Germany', 'type': 'Common Stock'}\n",
      "{'symbol': '000', 'name': 'Greenvolt - Energias Renovaveis SA', 'currency': 'EUR', 'exchange': 'XDUS', 'mic_code': 'XDUS', 'country': 'Germany', 'type': 'Common Stock'}\n",
      "{'symbol': '000', 'name': 'Greenvolt - Energias Renováveis, S.A.', 'currency': 'EUR', 'exchange': 'Munich', 'mic_code': 'XMUN', 'country': 'Germany', 'type': 'Common Stock'}\n",
      "{'symbol': '000', 'name': 'Greenvolt - Energias Renovaveis SA', 'currency': 'EUR', 'exchange': 'XBER', 'mic_code': 'XBER', 'country': 'Germany', 'type': 'Common Stock'}\n",
      "{'symbol': '000001', 'name': 'Ping An Bank Co., Ltd.', 'currency': 'CNY', 'exchange': 'SZSE', 'mic_code': 'XSHE', 'country': 'China', 'type': 'Common Stock'}\n"
     ]
    }
   ],
   "source": [
    "for i in range(5):\n",
    "    print(data[i])"
   ]
  },
  {
   "cell_type": "code",
   "execution_count": 14,
   "id": "e24719b3",
   "metadata": {},
   "outputs": [
    {
     "name": "stdout",
     "output_type": "stream",
     "text": [
      "141619\n"
     ]
    }
   ],
   "source": [
    "print (len(data))"
   ]
  },
  {
   "cell_type": "code",
   "execution_count": 24,
   "id": "19bdc2c9",
   "metadata": {},
   "outputs": [
    {
     "name": "stdout",
     "output_type": "stream",
     "text": [
      "FUCK\n",
      "FUCK\n",
      "FUCK\n",
      "FUCK\n",
      "FUCK\n",
      "FUCK\n",
      "FUCK\n",
      "FUCK\n",
      "FUCK\n",
      "FUCK\n",
      "FUCK\n",
      "FUCK\n"
     ]
    }
   ],
   "source": [
    "with open(\"stocklist.csv\", \"w\",newline='')as f:\n",
    "    writer = csv.DictWriter(f, fieldnames = data[i].keys())\n",
    "    writer.writeheader()\n",
    "    for i in range(len(data)):\n",
    "        try:\n",
    "            writer.writerow(data[i])\n",
    "        except:\n",
    "            print(\"FUCK\")"
   ]
  },
  {
   "cell_type": "code",
   "execution_count": 19,
   "id": "7ae5047f",
   "metadata": {},
   "outputs": [
    {
     "name": "stdout",
     "output_type": "stream",
     "text": [
      "141619\n"
     ]
    }
   ],
   "source": [
    "print(len(data))"
   ]
  },
  {
   "cell_type": "code",
   "execution_count": null,
   "id": "908582c1",
   "metadata": {},
   "outputs": [],
   "source": []
  }
 ],
 "metadata": {
  "kernelspec": {
   "display_name": "Python 3 (ipykernel)",
   "language": "python",
   "name": "python3"
  },
  "language_info": {
   "codemirror_mode": {
    "name": "ipython",
    "version": 3
   },
   "file_extension": ".py",
   "mimetype": "text/x-python",
   "name": "python",
   "nbconvert_exporter": "python",
   "pygments_lexer": "ipython3",
   "version": "3.11.5"
  }
 },
 "nbformat": 4,
 "nbformat_minor": 5
}
